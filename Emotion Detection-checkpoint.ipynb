{
 "cells": [
  {
   "cell_type": "code",
   "execution_count": 1,
   "id": "7f02f283-6ed5-40ee-a38d-c0235eabee7e",
   "metadata": {},
   "outputs": [],
   "source": [
    "import numpy as np\n",
    "import pandas as pd\n",
    "import matplotlib.pyplot as plt\n",
    "import seaborn as sns\n",
    "import matplotlib.image as mpimg\n",
    "import cv2\n",
    "import os"
   ]
  },
  {
   "cell_type": "code",
   "execution_count": 2,
   "id": "2f61dd90-622d-405f-8655-a16ca45e6d08",
   "metadata": {},
   "outputs": [],
   "source": [
    "image_test = mpimg.imread('test/angry/im104.png')\n",
    "image_train = mpimg.imread('train/angry/im1002.png')"
   ]
  },
  {
   "cell_type": "code",
   "execution_count": 3,
   "id": "7f6bd714-efa1-4fe9-ba1c-595258b0f5be",
   "metadata": {},
   "outputs": [
    {
     "data": {
      "text/plain": [
       "<matplotlib.image.AxesImage at 0x11aa8477410>"
      ]
     },
     "execution_count": 3,
     "metadata": {},
     "output_type": "execute_result"
    },
    {
     "data": {
      "image/png": "[encoded data removed]",
      "text/plain": [
       "<Figure size 640x480 with 1 Axes>"
      ]
     },
     "metadata": {},
     "output_type": "display_data"
    }
   ],
   "source": [
    "plt.imshow(image_test)"
   ]
  },
  {
   "cell_type": "code",
   "execution_count": 4,
   "id": "802e3718-ccab-4146-8712-0a9c8db163d1",
   "metadata": {},
   "outputs": [
    {
     "data": {
      "text/plain": [
       "(48, 48)"
      ]
     },
     "execution_count": 4,
     "metadata": {},
     "output_type": "execute_result"
    }
   ],
   "source": [
    "image_test.shape"
   ]
  },
  {
   "cell_type": "code",
   "execution_count": 5,
   "id": "4c866f52-ce61-46a2-ad41-12b17d0cb711",
   "metadata": {},
   "outputs": [
    {
     "data": {
      "text/plain": [
       "(48, 48)"
      ]
     },
     "execution_count": 5,
     "metadata": {},
     "output_type": "execute_result"
    }
   ],
   "source": [
    "image_train.shape"
   ]
  },
  {
   "cell_type": "code",
   "execution_count": 6,
   "id": "0f88b50d-0e3b-4afe-ba6e-0a211c936b21",
   "metadata": {},
   "outputs": [],
   "source": [
    "X_test = []\n",
    "y_test = []\n",
    "\n",
    "needed_classes = [\"sad\",\"angry\",\"happy\",\"fearful\",\"disgusted\",\"neutral\",\"surprised\"]\n",
    "label = {\n",
    "    \"sad\": 0,\n",
    "    \"happy\": 1,\n",
    "    \"fearful\": 2,\n",
    "    \"disgusted\": 3,\n",
    "    \"neutral\": 4,\n",
    "    \"surprised\": 5,\n",
    "    \"angry\": 6\n",
    "}\n",
    "\n",
    "for i in os.listdir('test/'):\n",
    "    if i not in needed_classes:  \n",
    "        continue\n",
    "    for j in os.listdir(f'test/{i}/'):\n",
    "        try:\n",
    "            image = cv2.imread(f'test/{i}/{j}')  \n",
    "            if image is None:\n",
    "                continue\n",
    "            image = cv2.cvtColor(image, cv2.COLOR_BGR2RGB)  \n",
    "            image = cv2.resize(image, (48, 48))\n",
    "            image = image / 255.0\n",
    "\n",
    "            X_test.append(image)\n",
    "            y_test.append(label[i])\n",
    "        except Exception as e:\n",
    "            print(\"Ошибка:\", e, f\"в файле {i}/{j}\")\n",
    "            continue\n",
    "\n",
    "X_test = np.array(X_test)\n",
    "y_test = np.array(y_test)\n"
   ]
  },
  {
   "cell_type": "code",
   "execution_count": 7,
   "id": "7b2313ce-2331-476d-a7c9-85da203fd451",
   "metadata": {},
   "outputs": [],
   "source": [
    "X_train = []\n",
    "y_train = []\n",
    "\n",
    "needed_classes = [\"sad\",\"angry\",\"happy\",\"fearful\",\"disgusted\",\"neutral\",\"surprised\"]\n",
    "label = {\n",
    "    \"sad\": 0,\n",
    "    \"happy\": 1,\n",
    "    \"fearful\": 2,\n",
    "    \"disgusted\": 3,\n",
    "    \"neutral\": 4,\n",
    "    \"surprised\": 5,\n",
    "    \"angry\": 6\n",
    "}\n",
    "\n",
    "for i in os.listdir('train/'):\n",
    "    if i not in needed_classes:  \n",
    "        continue\n",
    "    for j in os.listdir(f'train/{i}/'):\n",
    "        try:\n",
    "            image = cv2.imread(f'train/{i}/{j}')  \n",
    "            if image is None:\n",
    "                continue\n",
    "            image = cv2.cvtColor(image, cv2.COLOR_BGR2RGB)  \n",
    "            image = cv2.resize(image, (48, 48))\n",
    "            image = image / 255.0\n",
    "\n",
    "            X_train.append(image)\n",
    "            y_train.append(label[i])\n",
    "        except Exception as e:\n",
    "            print(\"Ошибка:\", e, f\"в файле {i}/{j}\")\n",
    "            continue\n",
    "\n",
    "X_train = np.array(X_train)\n",
    "y_train = np.array(y_train)\n"
   ]
  },
  {
   "cell_type": "code",
   "execution_count": 8,
   "id": "820187ee-e966-4691-8da0-b0328c068dbe",
   "metadata": {},
   "outputs": [
    {
     "data": {
      "text/plain": [
       "array([[[[0.99607843, 0.99607843, 0.99607843],\n",
       "         [0.99607843, 0.99607843, 0.99607843],\n",
       "         [0.99607843, 0.99607843, 0.99607843],\n",
       "         ...,\n",
       "         [0.0627451 , 0.0627451 , 0.0627451 ],\n",
       "         [0.        , 0.        , 0.        ],\n",
       "         [0.63137255, 0.63137255, 0.63137255]],\n",
       "\n",
       "        [[0.99607843, 0.99607843, 0.99607843],\n",
       "         [0.99607843, 0.99607843, 0.99607843],\n",
       "         [0.99607843, 0.99607843, 0.99607843],\n",
       "         ...,\n",
       "         [0.06666667, 0.06666667, 0.06666667],\n",
       "         [0.        , 0.        , 0.        ],\n",
       "         [0.47843137, 0.47843137, 0.47843137]],\n",
       "\n",
       "        [[0.99607843, 0.99607843, 0.99607843],\n",
       "         [0.99607843, 0.99607843, 0.99607843],\n",
       "         [0.99607843, 0.99607843, 0.99607843],\n",
       "         ...,\n",
       "         [0.10196078, 0.10196078, 0.10196078],\n",
       "         [0.        , 0.        , 0.        ],\n",
       "         [0.44705882, 0.44705882, 0.44705882]],\n",
       "\n",
       "        ...,\n",
       "\n",
       "        [[0.25882353, 0.25882353, 0.25882353],\n",
       "         [0.3372549 , 0.3372549 , 0.3372549 ],\n",
       "         [0.38823529, 0.38823529, 0.38823529],\n",
       "         ...,\n",
       "         [1.        , 1.        , 1.        ],\n",
       "         [0.98823529, 0.98823529, 0.98823529],\n",
       "         [0.99607843, 0.99607843, 0.99607843]],\n",
       "\n",
       "        [[0.32941176, 0.32941176, 0.32941176],\n",
       "         [0.36078431, 0.36078431, 0.36078431],\n",
       "         [0.36078431, 0.36078431, 0.36078431],\n",
       "         ...,\n",
       "         [0.9254902 , 0.9254902 , 0.9254902 ],\n",
       "         [1.        , 1.        , 1.        ],\n",
       "         [1.        , 1.        , 1.        ]],\n",
       "\n",
       "        [[0.36470588, 0.36470588, 0.36470588],\n",
       "         [0.35294118, 0.35294118, 0.35294118],\n",
       "         [0.33333333, 0.33333333, 0.33333333],\n",
       "         ...,\n",
       "         [0.16470588, 0.16470588, 0.16470588],\n",
       "         [0.50588235, 0.50588235, 0.50588235],\n",
       "         [0.70588235, 0.70588235, 0.70588235]]],\n",
       "\n",
       "\n",
       "       [[[0.69019608, 0.69019608, 0.69019608],\n",
       "         [0.69411765, 0.69411765, 0.69411765],\n",
       "         [0.66666667, 0.66666667, 0.66666667],\n",
       "         ...,\n",
       "         [0.36862745, 0.36862745, 0.36862745],\n",
       "         [0.34117647, 0.34117647, 0.34117647],\n",
       "         [0.42352941, 0.42352941, 0.42352941]],\n",
       "\n",
       "        [[0.70980392, 0.70980392, 0.70980392],\n",
       "         [0.70588235, 0.70588235, 0.70588235],\n",
       "         [0.70588235, 0.70588235, 0.70588235],\n",
       "         ...,\n",
       "         [0.38431373, 0.38431373, 0.38431373],\n",
       "         [0.34901961, 0.34901961, 0.34901961],\n",
       "         [0.38039216, 0.38039216, 0.38039216]],\n",
       "\n",
       "        [[0.69803922, 0.69803922, 0.69803922],\n",
       "         [0.71372549, 0.71372549, 0.71372549],\n",
       "         [0.73333333, 0.73333333, 0.73333333],\n",
       "         ...,\n",
       "         [0.37254902, 0.37254902, 0.37254902],\n",
       "         [0.37254902, 0.37254902, 0.37254902],\n",
       "         [0.34117647, 0.34117647, 0.34117647]],\n",
       "\n",
       "        ...,\n",
       "\n",
       "        [[0.52941176, 0.52941176, 0.52941176],\n",
       "         [0.54901961, 0.54901961, 0.54901961],\n",
       "         [0.57254902, 0.57254902, 0.57254902],\n",
       "         ...,\n",
       "         [0.58039216, 0.58039216, 0.58039216],\n",
       "         [0.59607843, 0.59607843, 0.59607843],\n",
       "         [0.61176471, 0.61176471, 0.61176471]],\n",
       "\n",
       "        [[0.56470588, 0.56470588, 0.56470588],\n",
       "         [0.54509804, 0.54509804, 0.54509804],\n",
       "         [0.60784314, 0.60784314, 0.60784314],\n",
       "         ...,\n",
       "         [0.59607843, 0.59607843, 0.59607843],\n",
       "         [0.62745098, 0.62745098, 0.62745098],\n",
       "         [0.63529412, 0.63529412, 0.63529412]],\n",
       "\n",
       "        [[0.59607843, 0.59607843, 0.59607843],\n",
       "         [0.55294118, 0.55294118, 0.55294118],\n",
       "         [0.58431373, 0.58431373, 0.58431373],\n",
       "         ...,\n",
       "         [0.50980392, 0.50980392, 0.50980392],\n",
       "         [0.56470588, 0.56470588, 0.56470588],\n",
       "         [0.55294118, 0.55294118, 0.55294118]]],\n",
       "\n",
       "\n",
       "       [[[0.10196078, 0.10196078, 0.10196078],\n",
       "         [0.13333333, 0.13333333, 0.13333333],\n",
       "         [0.09019608, 0.09019608, 0.09019608],\n",
       "         ...,\n",
       "         [0.5254902 , 0.5254902 , 0.5254902 ],\n",
       "         [0.53333333, 0.53333333, 0.53333333],\n",
       "         [0.52941176, 0.52941176, 0.52941176]],\n",
       "\n",
       "        [[0.1372549 , 0.1372549 , 0.1372549 ],\n",
       "         [0.12941176, 0.12941176, 0.12941176],\n",
       "         [0.04705882, 0.04705882, 0.04705882],\n",
       "         ...,\n",
       "         [0.5254902 , 0.5254902 , 0.5254902 ],\n",
       "         [0.5372549 , 0.5372549 , 0.5372549 ],\n",
       "         [0.53333333, 0.53333333, 0.53333333]],\n",
       "\n",
       "        [[0.12156863, 0.12156863, 0.12156863],\n",
       "         [0.06666667, 0.06666667, 0.06666667],\n",
       "         [0.03921569, 0.03921569, 0.03921569],\n",
       "         ...,\n",
       "         [0.5372549 , 0.5372549 , 0.5372549 ],\n",
       "         [0.5372549 , 0.5372549 , 0.5372549 ],\n",
       "         [0.54117647, 0.54117647, 0.54117647]],\n",
       "\n",
       "        ...,\n",
       "\n",
       "        [[0.78431373, 0.78431373, 0.78431373],\n",
       "         [0.76470588, 0.76470588, 0.76470588],\n",
       "         [0.74509804, 0.74509804, 0.74509804],\n",
       "         ...,\n",
       "         [0.30980392, 0.30980392, 0.30980392],\n",
       "         [0.31764706, 0.31764706, 0.31764706],\n",
       "         [0.32156863, 0.32156863, 0.32156863]],\n",
       "\n",
       "        [[0.77254902, 0.77254902, 0.77254902],\n",
       "         [0.75294118, 0.75294118, 0.75294118],\n",
       "         [0.72941176, 0.72941176, 0.72941176],\n",
       "         ...,\n",
       "         [0.29411765, 0.29411765, 0.29411765],\n",
       "         [0.33333333, 0.33333333, 0.33333333],\n",
       "         [0.3372549 , 0.3372549 , 0.3372549 ]],\n",
       "\n",
       "        [[0.75686275, 0.75686275, 0.75686275],\n",
       "         [0.73333333, 0.73333333, 0.73333333],\n",
       "         [0.71764706, 0.71764706, 0.71764706],\n",
       "         ...,\n",
       "         [0.40392157, 0.40392157, 0.40392157],\n",
       "         [0.31764706, 0.31764706, 0.31764706],\n",
       "         [0.34509804, 0.34509804, 0.34509804]]],\n",
       "\n",
       "\n",
       "       ...,\n",
       "\n",
       "\n",
       "       [[[0.91372549, 0.91372549, 0.91372549],\n",
       "         [0.80784314, 0.80784314, 0.80784314],\n",
       "         [0.54117647, 0.54117647, 0.54117647],\n",
       "         ...,\n",
       "         [0.65490196, 0.65490196, 0.65490196],\n",
       "         [0.63137255, 0.63137255, 0.63137255],\n",
       "         [0.65882353, 0.65882353, 0.65882353]],\n",
       "\n",
       "        [[0.9372549 , 0.9372549 , 0.9372549 ],\n",
       "         [0.91372549, 0.91372549, 0.91372549],\n",
       "         [0.52156863, 0.52156863, 0.52156863],\n",
       "         ...,\n",
       "         [0.67843137, 0.67843137, 0.67843137],\n",
       "         [0.66666667, 0.66666667, 0.66666667],\n",
       "         [0.68235294, 0.68235294, 0.68235294]],\n",
       "\n",
       "        [[0.95294118, 0.95294118, 0.95294118],\n",
       "         [0.83921569, 0.83921569, 0.83921569],\n",
       "         [0.37254902, 0.37254902, 0.37254902],\n",
       "         ...,\n",
       "         [0.58039216, 0.58039216, 0.58039216],\n",
       "         [0.63529412, 0.63529412, 0.63529412],\n",
       "         [0.67058824, 0.67058824, 0.67058824]],\n",
       "\n",
       "        ...,\n",
       "\n",
       "        [[0.21960784, 0.21960784, 0.21960784],\n",
       "         [0.18823529, 0.18823529, 0.18823529],\n",
       "         [0.20392157, 0.20392157, 0.20392157],\n",
       "         ...,\n",
       "         [0.66666667, 0.66666667, 0.66666667],\n",
       "         [0.58823529, 0.58823529, 0.58823529],\n",
       "         [0.6       , 0.6       , 0.6       ]],\n",
       "\n",
       "        [[0.23529412, 0.23529412, 0.23529412],\n",
       "         [0.18823529, 0.18823529, 0.18823529],\n",
       "         [0.22745098, 0.22745098, 0.22745098],\n",
       "         ...,\n",
       "         [0.62745098, 0.62745098, 0.62745098],\n",
       "         [0.52941176, 0.52941176, 0.52941176],\n",
       "         [0.5372549 , 0.5372549 , 0.5372549 ]],\n",
       "\n",
       "        [[0.23137255, 0.23137255, 0.23137255],\n",
       "         [0.18039216, 0.18039216, 0.18039216],\n",
       "         [0.24705882, 0.24705882, 0.24705882],\n",
       "         ...,\n",
       "         [0.55686275, 0.55686275, 0.55686275],\n",
       "         [0.54117647, 0.54117647, 0.54117647],\n",
       "         [0.5254902 , 0.5254902 , 0.5254902 ]]],\n",
       "\n",
       "\n",
       "       [[[0.83137255, 0.83137255, 0.83137255],\n",
       "         [0.83137255, 0.83137255, 0.83137255],\n",
       "         [0.83137255, 0.83137255, 0.83137255],\n",
       "         ...,\n",
       "         [0.81176471, 0.81176471, 0.81176471],\n",
       "         [0.80784314, 0.80784314, 0.80784314],\n",
       "         [0.81176471, 0.81176471, 0.81176471]],\n",
       "\n",
       "        [[0.82745098, 0.82745098, 0.82745098],\n",
       "         [0.82745098, 0.82745098, 0.82745098],\n",
       "         [0.82745098, 0.82745098, 0.82745098],\n",
       "         ...,\n",
       "         [0.80784314, 0.80784314, 0.80784314],\n",
       "         [0.81176471, 0.81176471, 0.81176471],\n",
       "         [0.81176471, 0.81176471, 0.81176471]],\n",
       "\n",
       "        [[0.83137255, 0.83137255, 0.83137255],\n",
       "         [0.82745098, 0.82745098, 0.82745098],\n",
       "         [0.82352941, 0.82352941, 0.82352941],\n",
       "         ...,\n",
       "         [0.81176471, 0.81176471, 0.81176471],\n",
       "         [0.81176471, 0.81176471, 0.81176471],\n",
       "         [0.81176471, 0.81176471, 0.81176471]],\n",
       "\n",
       "        ...,\n",
       "\n",
       "        [[0.63137255, 0.63137255, 0.63137255],\n",
       "         [0.14509804, 0.14509804, 0.14509804],\n",
       "         [0.        , 0.        , 0.        ],\n",
       "         ...,\n",
       "         [0.1254902 , 0.1254902 , 0.1254902 ],\n",
       "         [0.21176471, 0.21176471, 0.21176471],\n",
       "         [0.36078431, 0.36078431, 0.36078431]],\n",
       "\n",
       "        [[0.41960784, 0.41960784, 0.41960784],\n",
       "         [0.15294118, 0.15294118, 0.15294118],\n",
       "         [0.27843137, 0.27843137, 0.27843137],\n",
       "         ...,\n",
       "         [0.23529412, 0.23529412, 0.23529412],\n",
       "         [0.07843137, 0.07843137, 0.07843137],\n",
       "         [0.00784314, 0.00784314, 0.00784314]],\n",
       "\n",
       "        [[0.11764706, 0.11764706, 0.11764706],\n",
       "         [0.16078431, 0.16078431, 0.16078431],\n",
       "         [0.25098039, 0.25098039, 0.25098039],\n",
       "         ...,\n",
       "         [0.72941176, 0.72941176, 0.72941176],\n",
       "         [0.62352941, 0.62352941, 0.62352941],\n",
       "         [0.41176471, 0.41176471, 0.41176471]]],\n",
       "\n",
       "\n",
       "       [[[0.65490196, 0.65490196, 0.65490196],\n",
       "         [0.65490196, 0.65490196, 0.65490196],\n",
       "         [0.67058824, 0.67058824, 0.67058824],\n",
       "         ...,\n",
       "         [0.2627451 , 0.2627451 , 0.2627451 ],\n",
       "         [0.23921569, 0.23921569, 0.23921569],\n",
       "         [0.20784314, 0.20784314, 0.20784314]],\n",
       "\n",
       "        [[0.65490196, 0.65490196, 0.65490196],\n",
       "         [0.65490196, 0.65490196, 0.65490196],\n",
       "         [0.66666667, 0.66666667, 0.66666667],\n",
       "         ...,\n",
       "         [0.2       , 0.2       , 0.2       ],\n",
       "         [0.20392157, 0.20392157, 0.20392157],\n",
       "         [0.21176471, 0.21176471, 0.21176471]],\n",
       "\n",
       "        [[0.65882353, 0.65882353, 0.65882353],\n",
       "         [0.65098039, 0.65098039, 0.65098039],\n",
       "         [0.63137255, 0.63137255, 0.63137255],\n",
       "         ...,\n",
       "         [0.23137255, 0.23137255, 0.23137255],\n",
       "         [0.21960784, 0.21960784, 0.21960784],\n",
       "         [0.20392157, 0.20392157, 0.20392157]],\n",
       "\n",
       "        ...,\n",
       "\n",
       "        [[0.25490196, 0.25490196, 0.25490196],\n",
       "         [0.24705882, 0.24705882, 0.24705882],\n",
       "         [0.27058824, 0.27058824, 0.27058824],\n",
       "         ...,\n",
       "         [0.40392157, 0.40392157, 0.40392157],\n",
       "         [0.4       , 0.4       , 0.4       ],\n",
       "         [0.39215686, 0.39215686, 0.39215686]],\n",
       "\n",
       "        [[0.2       , 0.2       , 0.2       ],\n",
       "         [0.29411765, 0.29411765, 0.29411765],\n",
       "         [0.25882353, 0.25882353, 0.25882353],\n",
       "         ...,\n",
       "         [0.38039216, 0.38039216, 0.38039216],\n",
       "         [0.40784314, 0.40784314, 0.40784314],\n",
       "         [0.42352941, 0.42352941, 0.42352941]],\n",
       "\n",
       "        [[0.22352941, 0.22352941, 0.22352941],\n",
       "         [0.30196078, 0.30196078, 0.30196078],\n",
       "         [0.23921569, 0.23921569, 0.23921569],\n",
       "         ...,\n",
       "         [0.33333333, 0.33333333, 0.33333333],\n",
       "         [0.35294118, 0.35294118, 0.35294118],\n",
       "         [0.37647059, 0.37647059, 0.37647059]]]], shape=(7178, 48, 48, 3))"
      ]
     },
     "execution_count": 8,
     "metadata": {},
     "output_type": "execute_result"
    }
   ],
   "source": [
    "X_test"
   ]
  },
  {
   "cell_type": "code",
   "execution_count": 9,
   "id": "7cfdc423-8a38-480c-9794-10f826de552d",
   "metadata": {},
   "outputs": [
    {
     "data": {
      "text/plain": [
       "array([6, 6, 6, ..., 5, 5, 5], shape=(28709,))"
      ]
     },
     "execution_count": 9,
     "metadata": {},
     "output_type": "execute_result"
    }
   ],
   "source": [
    "y_train"
   ]
  },
  {
   "cell_type": "code",
   "execution_count": 10,
   "id": "bf54a40f-5bea-4558-9c7b-e983b59ff8d3",
   "metadata": {},
   "outputs": [],
   "source": [
    "from keras.utils import to_categorical"
   ]
  },
  {
   "cell_type": "code",
   "execution_count": 11,
   "id": "027ef795-eee9-48b8-8589-06e8c8865076",
   "metadata": {},
   "outputs": [],
   "source": [
    "y_train = to_categorical(y_train)"
   ]
  },
  {
   "cell_type": "code",
   "execution_count": 12,
   "id": "78c3bf99-f6c9-4f96-a43e-871816a7a967",
   "metadata": {},
   "outputs": [],
   "source": [
    "y_test = to_categorical(y_test)"
   ]
  },
  {
   "cell_type": "code",
   "execution_count": 13,
   "id": "9e7b2dc1-bc01-49c5-b9d1-0e2db1832685",
   "metadata": {},
   "outputs": [
    {
     "data": {
      "text/plain": [
       "array([[0., 0., 0., ..., 0., 0., 1.],\n",
       "       [0., 0., 0., ..., 0., 0., 1.],\n",
       "       [0., 0., 0., ..., 0., 0., 1.],\n",
       "       ...,\n",
       "       [0., 0., 0., ..., 0., 1., 0.],\n",
       "       [0., 0., 0., ..., 0., 1., 0.],\n",
       "       [0., 0., 0., ..., 0., 1., 0.]], shape=(28709, 7))"
      ]
     },
     "execution_count": 13,
     "metadata": {},
     "output_type": "execute_result"
    }
   ],
   "source": [
    "y_train"
   ]
  },
  {
   "cell_type": "code",
   "execution_count": 14,
   "id": "a39d0974-7793-4837-b25e-4b33bd20c1d2",
   "metadata": {},
   "outputs": [
    {
     "data": {
      "text/plain": [
       "(28709, 48, 48, 3)"
      ]
     },
     "execution_count": 14,
     "metadata": {},
     "output_type": "execute_result"
    }
   ],
   "source": [
    "X_train.shape"
   ]
  },
  {
   "cell_type": "code",
   "execution_count": 15,
   "id": "75a44ea9-fe5e-4afd-8edf-6f339dc0343e",
   "metadata": {},
   "outputs": [
    {
     "data": {
      "text/plain": [
       "(28709, 7)"
      ]
     },
     "execution_count": 15,
     "metadata": {},
     "output_type": "execute_result"
    }
   ],
   "source": [
    "y_train.shape"
   ]
  },
  {
   "cell_type": "code",
   "execution_count": 16,
   "id": "15feac7b-8793-4c7d-8194-bb47a1e1c03a",
   "metadata": {},
   "outputs": [
    {
     "data": {
      "text/plain": [
       "(7178, 48, 48, 3)"
      ]
     },
     "execution_count": 16,
     "metadata": {},
     "output_type": "execute_result"
    }
   ],
   "source": [
    "X_test.shape"
   ]
  },
  {
   "cell_type": "code",
   "execution_count": 17,
   "id": "17b9fecb-2cf7-4582-9802-589edde1f35d",
   "metadata": {},
   "outputs": [
    {
     "data": {
      "text/plain": [
       "(7178, 7)"
      ]
     },
     "execution_count": 17,
     "metadata": {},
     "output_type": "execute_result"
    }
   ],
   "source": [
    "y_test.shape"
   ]
  },
  {
   "cell_type": "code",
   "execution_count": 18,
   "id": "70e82946-1653-404c-b9a0-ffa04a6e8287",
   "metadata": {},
   "outputs": [],
   "source": [
    "from keras import Sequential\n",
    "from keras.layers import Dense,Conv2D,MaxPooling2D,Flatten\n",
    "from keras.optimizers import Adam\n",
    "from keras.layers import Dropout"
   ]
  },
  {
   "cell_type": "code",
   "execution_count": 89,
   "id": "2f718fd1-9330-403f-a58f-b13e9b4d0d0c",
   "metadata": {},
   "outputs": [],
   "source": [
    "from tensorflow.keras.callbacks import EarlyStopping, ReduceLROnPlateau\n",
    "\n",
    "model = Sequential()\n",
    "\n",
    "model.add(Conv2D(64, (3,3), activation='relu', input_shape=(48,48,3)))\n",
    "model.add(MaxPooling2D((2,2)))\n",
    "\n",
    "model.add(Conv2D(32, (3,3), activation='relu'))\n",
    "model.add(MaxPooling2D((2,2)))\n",
    "\n",
    "model.add(Conv2D(32, (3,3), activation='relu'))\n",
    "model.add(MaxPooling2D((2,2)))\n",
    "\n",
    "model.add(Flatten())\n",
    "model.add(Dense(units=128, activation='relu'))\n",
    "model.add(Dense(units=32, activation='relu'))\n",
    "model.add(Dropout(0.5))\n",
    "model.add(Dense(units=7, activation='softmax'))\n",
    "early_stop = EarlyStopping(monitor='val_loss', patience=5, restore_best_weights=True)\n",
    "reduce_lr = ReduceLROnPlateau(monitor='val_loss', factor=0.5, patience=3)"
   ]
  },
  {
   "cell_type": "code",
   "execution_count": 90,
   "id": "8ff6fc0b-59ad-4a10-84e9-273c1967efb0",
   "metadata": {},
   "outputs": [],
   "source": [
    "model.compile(optimizer=Adam(learning_rate=0.00056), loss='categorical_crossentropy', metrics=['accuracy'])"
   ]
  },
  {
   "cell_type": "code",
   "execution_count": 91,
   "id": "fcac201f-c1c2-432a-a82a-c1e2611d71c3",
   "metadata": {},
   "outputs": [
    {
     "name": "stdout",
     "output_type": "stream",
     "text": [
      "Epoch 1/40\n",
      "\u001b[1m449/449\u001b[0m \u001b[32m━━━━━━━━━━━━━━━━━━━━\u001b[0m\u001b[37m\u001b[0m \u001b[1m31s\u001b[0m 66ms/step - accuracy: 0.2247 - loss: 1.8381 - val_accuracy: 0.3100 - val_loss: 1.7305 - learning_rate: 5.6000e-04\n",
      "Epoch 2/40\n",
      "\u001b[1m449/449\u001b[0m \u001b[32m━━━━━━━━━━━━━━━━━━━━\u001b[0m\u001b[37m\u001b[0m \u001b[1m29s\u001b[0m 66ms/step - accuracy: 0.3324 - loss: 1.6832 - val_accuracy: 0.4037 - val_loss: 1.5602 - learning_rate: 5.6000e-04\n",
      "Epoch 3/40\n",
      "\u001b[1m449/449\u001b[0m \u001b[32m━━━━━━━━━━━━━━━━━━━━\u001b[0m\u001b[37m\u001b[0m \u001b[1m29s\u001b[0m 66ms/step - accuracy: 0.3902 - loss: 1.5714 - val_accuracy: 0.4507 - val_loss: 1.4578 - learning_rate: 5.6000e-04\n",
      "Epoch 4/40\n",
      "\u001b[1m449/449\u001b[0m \u001b[32m━━━━━━━━━━━━━━━━━━━━\u001b[0m\u001b[37m\u001b[0m \u001b[1m30s\u001b[0m 66ms/step - accuracy: 0.4230 - loss: 1.4939 - val_accuracy: 0.4673 - val_loss: 1.3910 - learning_rate: 5.6000e-04\n",
      "Epoch 5/40\n",
      "\u001b[1m449/449\u001b[0m \u001b[32m━━━━━━━━━━━━━━━━━━━━\u001b[0m\u001b[37m\u001b[0m \u001b[1m30s\u001b[0m 66ms/step - accuracy: 0.4531 - loss: 1.4207 - val_accuracy: 0.4798 - val_loss: 1.3798 - learning_rate: 5.6000e-04\n",
      "Epoch 6/40\n",
      "\u001b[1m449/449\u001b[0m \u001b[32m━━━━━━━━━━━━━━━━━━━━\u001b[0m\u001b[37m\u001b[0m \u001b[1m30s\u001b[0m 66ms/step - accuracy: 0.4692 - loss: 1.3866 - val_accuracy: 0.4877 - val_loss: 1.3233 - learning_rate: 5.6000e-04\n",
      "Epoch 7/40\n",
      "\u001b[1m449/449\u001b[0m \u001b[32m━━━━━━━━━━━━━━━━━━━━\u001b[0m\u001b[37m\u001b[0m \u001b[1m30s\u001b[0m 67ms/step - accuracy: 0.4824 - loss: 1.3550 - val_accuracy: 0.4992 - val_loss: 1.3043 - learning_rate: 5.6000e-04\n",
      "Epoch 8/40\n",
      "\u001b[1m449/449\u001b[0m \u001b[32m━━━━━━━━━━━━━━━━━━━━\u001b[0m\u001b[37m\u001b[0m \u001b[1m30s\u001b[0m 67ms/step - accuracy: 0.4985 - loss: 1.3203 - val_accuracy: 0.5096 - val_loss: 1.2760 - learning_rate: 5.6000e-04\n",
      "Epoch 9/40\n",
      "\u001b[1m449/449\u001b[0m \u001b[32m━━━━━━━━━━━━━━━━━━━━\u001b[0m\u001b[37m\u001b[0m \u001b[1m30s\u001b[0m 67ms/step - accuracy: 0.5092 - loss: 1.2915 - val_accuracy: 0.5116 - val_loss: 1.2676 - learning_rate: 5.6000e-04\n",
      "Epoch 10/40\n",
      "\u001b[1m449/449\u001b[0m \u001b[32m━━━━━━━━━━━━━━━━━━━━\u001b[0m\u001b[37m\u001b[0m \u001b[1m30s\u001b[0m 66ms/step - accuracy: 0.5237 - loss: 1.2677 - val_accuracy: 0.5258 - val_loss: 1.2405 - learning_rate: 5.6000e-04\n",
      "Epoch 11/40\n",
      "\u001b[1m449/449\u001b[0m \u001b[32m━━━━━━━━━━━━━━━━━━━━\u001b[0m\u001b[37m\u001b[0m \u001b[1m30s\u001b[0m 67ms/step - accuracy: 0.5314 - loss: 1.2402 - val_accuracy: 0.5247 - val_loss: 1.2376 - learning_rate: 5.6000e-04\n",
      "Epoch 12/40\n",
      "\u001b[1m449/449\u001b[0m \u001b[32m━━━━━━━━━━━━━━━━━━━━\u001b[0m\u001b[37m\u001b[0m \u001b[1m30s\u001b[0m 68ms/step - accuracy: 0.5409 - loss: 1.2163 - val_accuracy: 0.5352 - val_loss: 1.2299 - learning_rate: 5.6000e-04\n",
      "Epoch 13/40\n",
      "\u001b[1m449/449\u001b[0m \u001b[32m━━━━━━━━━━━━━━━━━━━━\u001b[0m\u001b[37m\u001b[0m \u001b[1m30s\u001b[0m 67ms/step - accuracy: 0.5535 - loss: 1.1890 - val_accuracy: 0.5265 - val_loss: 1.2305 - learning_rate: 5.6000e-04\n",
      "Epoch 14/40\n",
      "\u001b[1m449/449\u001b[0m \u001b[32m━━━━━━━━━━━━━━━━━━━━\u001b[0m\u001b[37m\u001b[0m \u001b[1m29s\u001b[0m 65ms/step - accuracy: 0.5609 - loss: 1.1629 - val_accuracy: 0.5407 - val_loss: 1.2060 - learning_rate: 5.6000e-04\n",
      "Epoch 15/40\n",
      "\u001b[1m449/449\u001b[0m \u001b[32m━━━━━━━━━━━━━━━━━━━━\u001b[0m\u001b[37m\u001b[0m \u001b[1m30s\u001b[0m 66ms/step - accuracy: 0.5722 - loss: 1.1338 - val_accuracy: 0.5391 - val_loss: 1.2116 - learning_rate: 5.6000e-04\n",
      "Epoch 16/40\n",
      "\u001b[1m449/449\u001b[0m \u001b[32m━━━━━━━━━━━━━━━━━━━━\u001b[0m\u001b[37m\u001b[0m \u001b[1m29s\u001b[0m 66ms/step - accuracy: 0.5799 - loss: 1.1188 - val_accuracy: 0.5404 - val_loss: 1.2236 - learning_rate: 5.6000e-04\n",
      "Epoch 17/40\n",
      "\u001b[1m449/449\u001b[0m \u001b[32m━━━━━━━━━━━━━━━━━━━━\u001b[0m\u001b[37m\u001b[0m \u001b[1m31s\u001b[0m 68ms/step - accuracy: 0.5938 - loss: 1.0883 - val_accuracy: 0.5418 - val_loss: 1.2179 - learning_rate: 5.6000e-04\n",
      "Epoch 18/40\n",
      "\u001b[1m449/449\u001b[0m \u001b[32m━━━━━━━━━━━━━━━━━━━━\u001b[0m\u001b[37m\u001b[0m \u001b[1m30s\u001b[0m 66ms/step - accuracy: 0.6103 - loss: 1.0379 - val_accuracy: 0.5489 - val_loss: 1.2094 - learning_rate: 2.8000e-04\n",
      "Epoch 19/40\n",
      "\u001b[1m449/449\u001b[0m \u001b[32m━━━━━━━━━━━━━━━━━━━━\u001b[0m\u001b[37m\u001b[0m \u001b[1m30s\u001b[0m 66ms/step - accuracy: 0.6173 - loss: 1.0183 - val_accuracy: 0.5454 - val_loss: 1.2263 - learning_rate: 2.8000e-04\n"
     ]
    },
    {
     "data": {
      "text/plain": [
       "<keras.src.callbacks.history.History at 0x11ba0d1a190>"
      ]
     },
     "execution_count": 91,
     "metadata": {},
     "output_type": "execute_result"
    }
   ],
   "source": [
    "model.fit(\n",
    "    X_train, y_train,\n",
    "    validation_data=(X_test, y_test),\n",
    "    epochs=40,\n",
    "    batch_size=64,\n",
    "    callbacks=[early_stop, reduce_lr]\n",
    ")"
   ]
  },
  {
   "cell_type": "code",
   "execution_count": 92,
   "id": "504f0033-0348-42a0-a43b-7adbb8fc2033",
   "metadata": {},
   "outputs": [
    {
     "data": {
      "text/plain": [
       "[<matplotlib.lines.Line2D at 0x11ba6b06b10>]"
      ]
     },
     "execution_count": 92,
     "metadata": {},
     "output_type": "execute_result"
    },
    {
     "data": {
      "image/png": "[encoded data removed]",
      "text/plain": [
       "<Figure size 640x480 with 1 Axes>"
      ]
     },
     "metadata": {},
     "output_type": "display_data"
    }
   ],
   "source": [
    "plt.plot(model.history.history['loss'])\n",
    "plt.plot(model.history.history['val_loss'])"
   ]
  },
  {
   "cell_type": "code",
   "execution_count": 110,
   "id": "28c547e2-5a6e-4c76-a400-4b107a0d301b",
   "metadata": {},
   "outputs": [
    {
     "data": {
      "text/plain": [
       "(48, 48)"
      ]
     },
     "execution_count": 110,
     "metadata": {},
     "output_type": "execute_result"
    }
   ],
   "source": [
    "image_test = mpimg.imread('test/happy/im149.png')\n",
    "image_test.shape"
   ]
  },
  {
   "cell_type": "code",
   "execution_count": 112,
   "id": "ecc48e1a-80c7-4647-bde1-a92cab7f62c5",
   "metadata": {},
   "outputs": [
    {
     "name": "stdout",
     "output_type": "stream",
     "text": [
      "\u001b[1m1/1\u001b[0m \u001b[32m━━━━━━━━━━━━━━━━━━━━\u001b[0m\u001b[37m\u001b[0m \u001b[1m0s\u001b[0m 47ms/step\n",
      "[[1.8899847e-03 9.8727500e-01 1.8534228e-03 4.9493333e-06 4.8667910e-03\n",
      "  1.8545093e-03 2.2553613e-03]]\n",
      "emotion 1\n"
     ]
    }
   ],
   "source": [
    "img = cv2.imread('test/happy/im1015.png')\n",
    "img = cv2.cvtColor(img, cv2.COLOR_BGR2RGB)   \n",
    "img = cv2.resize(img, (48, 48))           \n",
    "img = img / 255                           \n",
    "img = np.expand_dims(img, axis=0)            \n",
    "pred = model.predict(img)\n",
    "print(pred)\n",
    "print(\"emotion\", np.argmax(pred))"
   ]
  },
  {
   "cell_type": "code",
   "execution_count": 108,
   "id": "5be6314b-cac2-46f5-81b5-4ab27e1602a9",
   "metadata": {},
   "outputs": [
    {
     "data": {
      "text/plain": [
       "<matplotlib.image.AxesImage at 0x11bb1252610>"
      ]
     },
     "execution_count": 108,
     "metadata": {},
     "output_type": "execute_result"
    },
    {
     "data": {
      "image/png": "[encoded data removed]",
      "text/plain": [
       "<Figure size 640x480 with 1 Axes>"
      ]
     },
     "metadata": {},
     "output_type": "display_data"
    }
   ],
   "source": [
    "plt.imshow(image_test)"
   ]
  },
  {
   "cell_type": "code",
   "execution_count": 113,
   "id": "32142aa7-14fe-41e5-9dbb-8f7dc34d8d02",
   "metadata": {},
   "outputs": [],
   "source": [
    "import pickle"
   ]
  },
  {
   "cell_type": "code",
   "execution_count": 114,
   "id": "96a71ba8-3d8c-4c24-85b1-b1819ca4ac2a",
   "metadata": {},
   "outputs": [],
   "source": [
    "with open ('model.emosion','wb') as file:\n",
    "    pickle.dump(model, file)"
   ]
  },
  {
   "cell_type": "code",
   "execution_count": null,
   "id": "ff9b32ea-9d60-4bc1-8a3c-e0e57aee2d5f",
   "metadata": {},
   "outputs": [],
   "source": []
  }
 ],
 "metadata": {
  "kernelspec": {
   "display_name": "Python 3 (ipykernel)",
   "language": "python",
   "name": "python3"
  },
  "language_info": {
   "codemirror_mode": {
    "name": "ipython",
    "version": 3
   },
   "file_extension": ".py",
   "mimetype": "text/x-python",
   "name": "python",
   "nbconvert_exporter": "python",
   "pygments_lexer": "ipython3",
   "version": "3.11.2"
  }
 },
 "nbformat": 4,
 "nbformat_minor": 5
}
